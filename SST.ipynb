{
 "cells": [
  {
   "cell_type": "code",
   "execution_count": null,
   "id": "1f283260",
   "metadata": {},
   "outputs": [],
   "source": [
    "import matplotlib.pyplot as plt\n",
    "plt.rcParams['font.size'] = '18'\n",
    "plt.rcParams['figure.dpi'] = 125\n",
    "plt.rcParams['figure.facecolor'] = 'white'\n",
    "\n",
    "import numpy as np\n",
    "import xarray as xr\n",
    "import nctoolkit as nc\n",
    "import datetime\n",
    "\n",
    "import os, sys\n",
    "\n",
    "module_path = os.path.abspath(os.path.join('/Users/gilaverbuch/dev/pysst/'))\n",
    "if module_path not in sys.path:\n",
    "    sys.path.appendp(module_path)\n",
    "from src.pysst.pysst import load_data\n",
    "\n",
    "# from pysst import load_data"
   ]
  },
  {
   "cell_type": "code",
   "execution_count": null,
   "id": "06cf9d66",
   "metadata": {},
   "outputs": [],
   "source": [
    "date_i = '2019-02-10T15:00'\n",
    "date_f = '2019-02-11T00:00'\n",
    "\n",
    "date_i = np.datetime64(date_i)\n",
    "date_f = np.datetime64(date_f)\n",
    "\n",
    "sst = load_data(date_i, date_f, merge=True)"
   ]
  },
  {
   "cell_type": "code",
   "execution_count": null,
   "id": "97937902",
   "metadata": {},
   "outputs": [],
   "source": [
    "sst"
   ]
  },
  {
   "cell_type": "code",
   "execution_count": null,
   "id": "7ebf2167",
   "metadata": {},
   "outputs": [],
   "source": [
    "t=2\n",
    "sst.isel(time=t).mcsst.plot(cmap='gnuplot2', clim=(5,35))"
   ]
  },
  {
   "cell_type": "code",
   "execution_count": null,
   "id": "a40a1b15",
   "metadata": {},
   "outputs": [],
   "source": [
    "sst.isel(time=t).mcsst_source1.plot(cmap='gnuplot2', clim=(5,35))"
   ]
  },
  {
   "cell_type": "code",
   "execution_count": null,
   "id": "46765a4c",
   "metadata": {},
   "outputs": [],
   "source": [
    "sst.isel(time=t).mcsst_source2.plot(cmap='gnuplot2', clim=(5,35))"
   ]
  },
  {
   "cell_type": "code",
   "execution_count": null,
   "id": "63a2a49b",
   "metadata": {},
   "outputs": [],
   "source": []
  },
  {
   "cell_type": "code",
   "execution_count": null,
   "id": "708a7942",
   "metadata": {},
   "outputs": [],
   "source": []
  }
 ],
 "metadata": {
  "kernelspec": {
   "display_name": "Python 3 (ipykernel)",
   "language": "python",
   "name": "python3"
  },
  "language_info": {
   "codemirror_mode": {
    "name": "ipython",
    "version": 3
   },
   "file_extension": ".py",
   "mimetype": "text/x-python",
   "name": "python",
   "nbconvert_exporter": "python",
   "pygments_lexer": "ipython3",
   "version": "3.11.4"
  }
 },
 "nbformat": 4,
 "nbformat_minor": 5
}
