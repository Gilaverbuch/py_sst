{
 "cells": [
  {
   "cell_type": "code",
   "execution_count": null,
   "id": "1f283260",
   "metadata": {},
   "outputs": [],
   "source": [
    "import matplotlib.pyplot as plt\n",
    "plt.rcParams['font.size'] = '18'\n",
    "plt.rcParams['figure.dpi'] = 125\n",
    "plt.rcParams['figure.facecolor'] = 'white'\n",
    "\n",
    "import numpy as np\n",
    "import xarray as xr\n",
    "import pandas as pd\n",
    "import nctoolkit as nc\n",
    "import datetime\n",
    "\n",
    "import os\n",
    "import sys\n",
    "module_path = os.path.abspath(os.path.join('/Users/gilaverbuch/dev/pysst/'))\n",
    "if module_path not in sys.path:\n",
    "    sys.path.appendp(module_path)\n",
    "from src.pysst.pysst import load_data\n",
    "\n",
    "# ds = nc.open_thredds('http://tds.maracoos.org/thredds/dodsC/AVHRR/2021/1Agg')\n",
    "# ds = nc.open_thredds('http://basin.ceoe.udel.edu/thredds/dodsC/avhrr_unfiltered_sst.nc')"
   ]
  },
  {
   "cell_type": "code",
   "execution_count": null,
   "id": "06cf9d66",
   "metadata": {},
   "outputs": [],
   "source": [
    "date = '2018-01-10T15:00'\n",
    "t = np.datetime64(date)\n",
    "\n",
    "load_data(t)"
   ]
  },
  {
   "cell_type": "code",
   "execution_count": null,
   "id": "cea8404c",
   "metadata": {},
   "outputs": [],
   "source": []
  },
  {
   "cell_type": "code",
   "execution_count": null,
   "id": "486e3643",
   "metadata": {},
   "outputs": [],
   "source": []
  },
  {
   "cell_type": "code",
   "execution_count": null,
   "id": "55f6552e",
   "metadata": {},
   "outputs": [],
   "source": []
  },
  {
   "cell_type": "code",
   "execution_count": null,
   "id": "1d0b5393",
   "metadata": {},
   "outputs": [],
   "source": []
  },
  {
   "cell_type": "code",
   "execution_count": null,
   "id": "874cd106",
   "metadata": {},
   "outputs": [],
   "source": []
  },
  {
   "cell_type": "code",
   "execution_count": null,
   "id": "24fdf80e",
   "metadata": {},
   "outputs": [],
   "source": [
    "date, date+ np.timedelta64(10, 'D')"
   ]
  },
  {
   "cell_type": "code",
   "execution_count": null,
   "id": "b3b8eb21",
   "metadata": {},
   "outputs": [],
   "source": []
  },
  {
   "cell_type": "code",
   "execution_count": null,
   "id": "04704d05",
   "metadata": {},
   "outputs": [],
   "source": [
    "ds1 = nc.open_thredds('http://tds.maracoos.org/thredds/dodsC/AVHRR/2017/1Agg')\n",
    "\n",
    "ds2 = nc.open_thredds('http://basin.ceoe.udel.edu/thredds/dodsC/avhrr_unfiltered_sst.nc')"
   ]
  },
  {
   "cell_type": "code",
   "execution_count": null,
   "id": "2e1ac689",
   "metadata": {},
   "outputs": [],
   "source": [
    "date = '2017-01-15T15:00'\n",
    "date = np.datetime64(date)"
   ]
  },
  {
   "cell_type": "code",
   "execution_count": null,
   "id": "1dd5f5b5",
   "metadata": {},
   "outputs": [],
   "source": [
    "dsx1 = ds1.to_xarray()\n",
    "# dsx1 = dsx1.reset_index('time')\n",
    "dsx1 = dsx1.sortby('time')\n",
    "\n",
    "dsx2 = ds2.to_xarray()\n",
    "dsx2 = dsx2.sortby('time')"
   ]
  },
  {
   "cell_type": "code",
   "execution_count": null,
   "id": "fd14f71b",
   "metadata": {
    "scrolled": false
   },
   "outputs": [],
   "source": [
    "dsx1 = dsx1.sel(time=date, method='nearest', drop=True)\n"
   ]
  },
  {
   "cell_type": "code",
   "execution_count": null,
   "id": "f4c95cd3",
   "metadata": {},
   "outputs": [],
   "source": [
    "# dsx1 = dsx1.sel(time=date, method='nearest')\n",
    "dsx2 = dsx2.sel(time=date, method='nearest')"
   ]
  },
  {
   "cell_type": "code",
   "execution_count": null,
   "id": "cdf22671",
   "metadata": {},
   "outputs": [],
   "source": [
    "dsx2"
   ]
  },
  {
   "cell_type": "code",
   "execution_count": null,
   "id": "38f6ad66",
   "metadata": {},
   "outputs": [],
   "source": [
    "dsx2"
   ]
  },
  {
   "cell_type": "code",
   "execution_count": null,
   "id": "7b149bde",
   "metadata": {
    "scrolled": false
   },
   "outputs": [],
   "source": [
    "dsx1.mcsst.plot(cmap='gnuplot2', clim=(5,35))"
   ]
  },
  {
   "cell_type": "code",
   "execution_count": null,
   "id": "a1014322",
   "metadata": {},
   "outputs": [],
   "source": [
    "dsx2.mcsst.plot(cmap='gnuplot2', clim=(5,35))"
   ]
  },
  {
   "cell_type": "code",
   "execution_count": null,
   "id": "a936e464",
   "metadata": {},
   "outputs": [],
   "source": [
    "dsx3 = dsx1.copy()"
   ]
  },
  {
   "cell_type": "code",
   "execution_count": null,
   "id": "3a535cce",
   "metadata": {},
   "outputs": [],
   "source": [
    "dsx3.mcsst.values = np.nanmean(np.dstack((dsx1.mcsst.values,dsx2.mcsst.values)),2)"
   ]
  },
  {
   "cell_type": "code",
   "execution_count": null,
   "id": "d9878ea7",
   "metadata": {},
   "outputs": [],
   "source": [
    "dsx3"
   ]
  },
  {
   "cell_type": "code",
   "execution_count": null,
   "id": "d7b10447",
   "metadata": {},
   "outputs": [],
   "source": [
    "dsx3.mcsst.plot(cmap='gnuplot2', clim=(5,35))"
   ]
  },
  {
   "cell_type": "code",
   "execution_count": null,
   "id": "d9e836af",
   "metadata": {},
   "outputs": [],
   "source": []
  },
  {
   "cell_type": "code",
   "execution_count": null,
   "id": "2e5b022b",
   "metadata": {},
   "outputs": [],
   "source": [
    "date = '2019-01-10T15:00'\n",
    "date = np.datetime64(date)"
   ]
  },
  {
   "cell_type": "code",
   "execution_count": null,
   "id": "008487ab",
   "metadata": {},
   "outputs": [],
   "source": [
    "t "
   ]
  },
  {
   "cell_type": "code",
   "execution_count": null,
   "id": "00e332d6",
   "metadata": {},
   "outputs": [],
   "source": [
    "date = '2019-07-01T10:00'\n",
    "t = np.datetime64(date)\n",
    "\n",
    "dsx1 = dsx1.sel(time=t, method='nearest')"
   ]
  },
  {
   "cell_type": "code",
   "execution_count": null,
   "id": "b3567689",
   "metadata": {},
   "outputs": [],
   "source": [
    "dsx1.mcsst.plot(cmap='gnuplot2', clim=(5,35))"
   ]
  },
  {
   "cell_type": "code",
   "execution_count": null,
   "id": "b0ead2ca",
   "metadata": {},
   "outputs": [],
   "source": [
    "day_ang = dsx1.sel(time=slice('2019-07-01', '2019-07-01'))"
   ]
  },
  {
   "cell_type": "code",
   "execution_count": null,
   "id": "30ff3b4e",
   "metadata": {},
   "outputs": [],
   "source": [
    "day_ang = dsx1.sel(time=slice('2019-07-01', '2019-07-01')).groupby('time.day').mean('time')"
   ]
  },
  {
   "cell_type": "code",
   "execution_count": null,
   "id": "1cfdecb1",
   "metadata": {},
   "outputs": [],
   "source": [
    "day_ang"
   ]
  },
  {
   "cell_type": "code",
   "execution_count": null,
   "id": "6f84773b",
   "metadata": {},
   "outputs": [],
   "source": [
    "day_ang.mcsst.plot(cmap='gnuplot2', clim=(5,35))"
   ]
  },
  {
   "cell_type": "code",
   "execution_count": null,
   "id": "8ddb08f2",
   "metadata": {},
   "outputs": [],
   "source": []
  },
  {
   "cell_type": "code",
   "execution_count": null,
   "id": "8ba5bc6b",
   "metadata": {},
   "outputs": [],
   "source": []
  },
  {
   "cell_type": "code",
   "execution_count": null,
   "id": "fafd53b8",
   "metadata": {},
   "outputs": [],
   "source": []
  },
  {
   "cell_type": "code",
   "execution_count": null,
   "id": "da9dc548",
   "metadata": {},
   "outputs": [],
   "source": [
    "abstime = np.abs(dsx.time-t)\n",
    "abstime = np.timedelta64(abstime.time.values[0], 'h')\n",
    "t_loc = np.where(abstime<=1)\n",
    "\n",
    "# # Now I can use that index location to get the values at the x/y diminsion\n",
    "# point_ds = ds.sel(x=xloc, y=yloc)"
   ]
  },
  {
   "cell_type": "code",
   "execution_count": null,
   "id": "10834883",
   "metadata": {},
   "outputs": [],
   "source": [
    "abstime.time.values[0]"
   ]
  },
  {
   "cell_type": "code",
   "execution_count": null,
   "id": "dda346ba",
   "metadata": {},
   "outputs": [],
   "source": []
  },
  {
   "cell_type": "code",
   "execution_count": null,
   "id": "935e9711",
   "metadata": {},
   "outputs": [],
   "source": [
    "a = xr_ds.isel(time=1500)"
   ]
  },
  {
   "cell_type": "code",
   "execution_count": null,
   "id": "0a6edf88",
   "metadata": {},
   "outputs": [],
   "source": [
    "a.mcsst.plot()"
   ]
  },
  {
   "cell_type": "code",
   "execution_count": null,
   "id": "a62732ef",
   "metadata": {},
   "outputs": [],
   "source": [
    "d = a.mcsst.values.copy()\n",
    "lat = a.lat.values.copy()\n",
    "lon = a.lon.values.copy()\n",
    "plt.figure(figsize=(15,10))\n",
    "plt.pcolormesh(lon, lat,d, cmap='gnuplot2')\n",
    "plt.clim(5,35)\n",
    "plt.colorbar(label='Temp [c]')\n",
    "plt.show()"
   ]
  },
  {
   "cell_type": "code",
   "execution_count": null,
   "id": "fb5bc5fc",
   "metadata": {},
   "outputs": [],
   "source": [
    "d = a.mcsst.values.copy()"
   ]
  },
  {
   "cell_type": "code",
   "execution_count": null,
   "id": "7a03d1eb",
   "metadata": {},
   "outputs": [],
   "source": [
    "a.lat"
   ]
  },
  {
   "cell_type": "code",
   "execution_count": null,
   "id": "708a7942",
   "metadata": {},
   "outputs": [],
   "source": []
  }
 ],
 "metadata": {
  "kernelspec": {
   "display_name": "Python 3 (ipykernel)",
   "language": "python",
   "name": "python3"
  },
  "language_info": {
   "codemirror_mode": {
    "name": "ipython",
    "version": 3
   },
   "file_extension": ".py",
   "mimetype": "text/x-python",
   "name": "python",
   "nbconvert_exporter": "python",
   "pygments_lexer": "ipython3",
   "version": "3.11.4"
  }
 },
 "nbformat": 4,
 "nbformat_minor": 5
}
