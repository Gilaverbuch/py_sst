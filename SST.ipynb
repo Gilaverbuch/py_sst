{
 "cells": [
  {
   "cell_type": "code",
   "execution_count": null,
   "id": "55e63867-efa8-4f1f-9def-77da8a371f99",
   "metadata": {},
   "outputs": [],
   "source": [
    "import matplotlib.pyplot as plt\n",
    "plt.rcParams['font.size'] = '18'\n",
    "plt.rcParams['figure.dpi'] = 125\n",
    "plt.rcParams['figure.facecolor'] = 'white'\n",
    "\n",
    "import numpy as np\n",
    "import xarray as xr\n",
    "import os, sys\n",
    "\n",
    "# from pysst import SST\n",
    "\n",
    "import os\n",
    "import sys  \n",
    "module_path = os.path.abspath(os.path.join('/Users/gilaverbuch/dev/pysst'))\n",
    "if module_path not in sys.path:\n",
    "    sys.path.append(module_path)\n",
    "from src.pysst.pysst import SST\n",
    "\n"
   ]
  },
  {
   "cell_type": "code",
   "execution_count": null,
   "id": "27aa7133-30a0-46a9-baac-49cba1e1033b",
   "metadata": {},
   "outputs": [],
   "source": [
    "date_i = '2020-06-10T12:00'\n",
    "date_f = '2020-06-11T12:00'\n",
    "\n",
    "date_i = np.datetime64(date_i)\n",
    "date_f = np.datetime64(date_f)\n",
    "\n",
    "date_i = np.datetime64('2023-07-26T16:11:00')\n",
    "\n",
    "lat_min = 39\n",
    "lat_max = 42\n",
    "lon_min = -73 \n",
    "lon_max = -70\n",
    "\n",
    "s = SST(date_i=date_i)"
   ]
  },
  {
   "cell_type": "code",
   "execution_count": null,
   "id": "27bacb7a-0377-4c63-a9c8-08b65b4b0c97",
   "metadata": {},
   "outputs": [],
   "source": [
    "s.load_data()"
   ]
  },
  {
   "cell_type": "code",
   "execution_count": null,
   "id": "f4b4deb1-8a4a-4e23-935f-b51b149a6e5b",
   "metadata": {},
   "outputs": [],
   "source": [
    "s.merge()"
   ]
  },
  {
   "cell_type": "code",
   "execution_count": null,
   "id": "b39a0113",
   "metadata": {},
   "outputs": [],
   "source": [
    "s.sst"
   ]
  },
  {
   "cell_type": "code",
   "execution_count": null,
   "id": "c2283f57-9b3a-49aa-96d1-5c5aa6ed78fc",
   "metadata": {},
   "outputs": [],
   "source": [
    "s.sst.mcsst.plot.pcolormesh(vmin=0, vmax=20, cmap='gnuplot2')"
   ]
  },
  {
   "cell_type": "code",
   "execution_count": null,
   "id": "4e1ad68a-f352-4b2f-9805-dbc58c048640",
   "metadata": {},
   "outputs": [],
   "source": [
    "s.sst.mcsst_source1[6].plot.pcolormesh(vmin=0, vmax=20, cmap='gnuplot2')"
   ]
  },
  {
   "cell_type": "code",
   "execution_count": null,
   "id": "884eaa90-10f5-45c3-be27-992787deed7e",
   "metadata": {},
   "outputs": [],
   "source": [
    "s.sst.mcsst_source2[6].plot.pcolormesh(vmin=0, vmax=20, cmap='gnuplot2')"
   ]
  },
  {
   "cell_type": "code",
   "execution_count": null,
   "id": "d7910e93",
   "metadata": {},
   "outputs": [],
   "source": [
    "ds2 = nc.open_thredds('http://basin.ceoe.udel.edu/thredds/dodsC/avhrr_unfiltered_sst.nc')\n",
    "dsx2 = ds2.to_xarray()\n",
    "dsx2 = dsx2.sortby('time')\n",
    "date_i = np.datetime64('2023-07-26T16:11:00')\n",
    "dsx2 = dsx2.sel(time=date_i, method='nearest')"
   ]
  },
  {
   "cell_type": "code",
   "execution_count": null,
   "id": "341a7951",
   "metadata": {},
   "outputs": [],
   "source": [
    "dsx2.mcsst.plot.pcolormesh(vmin=0, vmax=20, cmap='gnuplot2')"
   ]
  },
  {
   "cell_type": "code",
   "execution_count": null,
   "id": "6106b7b0",
   "metadata": {},
   "outputs": [],
   "source": [
    "name = 'https://tds.maracoos.org/thredds/dodsC/AVHRR1.nc'\n",
    "# name = 'https://tds.maracoos.org/thredds/dodsC/AVHRR.nc'\n",
    "ds1 = nc.open_thredds(name)"
   ]
  },
  {
   "cell_type": "code",
   "execution_count": null,
   "id": "12562166",
   "metadata": {},
   "outputs": [],
   "source": [
    "dsx1 = ds1.to_xarray()"
   ]
  },
  {
   "cell_type": "code",
   "execution_count": null,
   "id": "ddb44911",
   "metadata": {},
   "outputs": [],
   "source": [
    "dsx1.mcsst[6].plot.pcolormesh(vmin=0, vmax=20, cmap='gnuplot2')"
   ]
  },
  {
   "cell_type": "code",
   "execution_count": null,
   "id": "af987317",
   "metadata": {},
   "outputs": [],
   "source": [
    "dsx1.mcsst[6].plot.pcolormesh(vmin=0, vmax=20, cmap='gnuplot2')"
   ]
  },
  {
   "cell_type": "code",
   "execution_count": null,
   "id": "a60fe85d",
   "metadata": {},
   "outputs": [],
   "source": [
    "import nctoolkit as nc"
   ]
  },
  {
   "cell_type": "code",
   "execution_count": null,
   "id": "beac1575-4e77-462b-b761-fe95da9e6e61",
   "metadata": {},
   "outputs": [],
   "source": [
    "name = 'https://www.ncei.noaa.gov/thredds-ocean/dodsC/pathfinder/Version5.3/L3C/2023/data/20230105225822-NCEI-L3C_GHRSST-SSTskin-AVHRR_Pathfinder-PFV5.3_NOAA19_G_2023005_day-v02.0-fv01.0.nc'\n",
    "ds1 = nc.open_thredds(name)"
   ]
  },
  {
   "cell_type": "code",
   "execution_count": null,
   "id": "7f7717bd-d9e2-455d-89e0-b5481f5e6b91",
   "metadata": {},
   "outputs": [],
   "source": [
    "lat_min = 50 \n",
    "lat_max = 30 \n",
    "lon_min = -80 \n",
    "lon_max = -60\n",
    "dsx1 = ds1.to_xarray()\n",
    "dsx1 = dsx1.sel(lat=slice(lat_min, lat_max))\n",
    "dsx1 = dsx1.sel(lon=slice(lon_min, lon_max))"
   ]
  },
  {
   "cell_type": "code",
   "execution_count": null,
   "id": "cc482450",
   "metadata": {},
   "outputs": [],
   "source": [
    "dsx1"
   ]
  },
  {
   "cell_type": "code",
   "execution_count": null,
   "id": "86efc1d3",
   "metadata": {},
   "outputs": [],
   "source": [
    "dsx1.load()"
   ]
  },
  {
   "cell_type": "code",
   "execution_count": null,
   "id": "1ed9d5b1-22af-48e1-aee6-37bc2ea0eb8e",
   "metadata": {},
   "outputs": [],
   "source": [
    "dsx1.sea_surface_temperature.plot(vmin=265, vmax=300, cmap='gnuplot2')"
   ]
  },
  {
   "cell_type": "code",
   "execution_count": null,
   "id": "6bbe06bf",
   "metadata": {},
   "outputs": [],
   "source": [
    "dsx1"
   ]
  },
  {
   "cell_type": "code",
   "execution_count": null,
   "id": "033a4a80",
   "metadata": {},
   "outputs": [],
   "source": [
    "nc.open_data(\"https://www.ncei.noaa.gov/thredds-ocean/dodsC/pathfinder/Version5.3/L3C/2023/data/20230101023227-NCEI-L3C_GHRSST-SSTskin-AVHRR_Pathfinder-PFV5.3_NOAA19_G_2023001_night-v02.0-fv01.0.nc\")"
   ]
  },
  {
   "cell_type": "code",
   "execution_count": null,
   "id": "5af9939b",
   "metadata": {},
   "outputs": [],
   "source": []
  },
  {
   "cell_type": "code",
   "execution_count": null,
   "id": "07378d4f",
   "metadata": {},
   "outputs": [],
   "source": []
  }
 ],
 "metadata": {
  "kernelspec": {
   "display_name": "Python 3 (ipykernel)",
   "language": "python",
   "name": "python3"
  },
  "language_info": {
   "codemirror_mode": {
    "name": "ipython",
    "version": 3
   },
   "file_extension": ".py",
   "mimetype": "text/x-python",
   "name": "python",
   "nbconvert_exporter": "python",
   "pygments_lexer": "ipython3",
   "version": "3.11.4"
  }
 },
 "nbformat": 4,
 "nbformat_minor": 5
}
