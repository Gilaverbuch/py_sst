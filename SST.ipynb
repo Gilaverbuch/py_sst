{
 "cells": [
  {
   "cell_type": "code",
   "execution_count": null,
   "id": "55e63867-efa8-4f1f-9def-77da8a371f99",
   "metadata": {},
   "outputs": [],
   "source": [
    "import matplotlib.pyplot as plt\n",
    "plt.rcParams['font.size'] = '18'\n",
    "plt.rcParams['figure.dpi'] = 125\n",
    "plt.rcParams['figure.facecolor'] = 'white'\n",
    "\n",
    "import numpy as np\n",
    "import xarray as xr\n",
    "import nctoolkit as nc\n",
    "\n",
    "module_path = os.path.abspath(os.path.join('/Users/gilaverbuch/dev/pysst/'))\n",
    "if module_path not in sys.path:\n",
    "    sys.path.appendp(module_path)\n",
    "from src.pysst.pysst import load_data, SST\n",
    "\n",
    "# from pysst import load_data"
   ]
  },
  {
   "cell_type": "code",
   "execution_count": null,
   "id": "27aa7133-30a0-46a9-baac-49cba1e1033b",
   "metadata": {},
   "outputs": [],
   "source": [
    "date_i = '2019-02-10T15:00'\n",
    "date_f = '2019-02-10T20:00'\n",
    "\n",
    "date_i = np.datetime64(date_i)\n",
    "date_f = np.datetime64(date_f)\n",
    "\n",
    "s = SST(date_i=date_i)"
   ]
  },
  {
   "cell_type": "code",
   "execution_count": null,
   "id": "27bacb7a-0377-4c63-a9c8-08b65b4b0c97",
   "metadata": {},
   "outputs": [],
   "source": [
    "s.load_data()"
   ]
  },
  {
   "cell_type": "code",
   "execution_count": null,
   "id": "f4b4deb1-8a4a-4e23-935f-b51b149a6e5b",
   "metadata": {},
   "outputs": [],
   "source": [
    "s.merge()"
   ]
  },
  {
   "cell_type": "code",
   "execution_count": null,
   "id": "67fa7ab9-af55-4e10-8f6d-b617278cdd42",
   "metadata": {},
   "outputs": [],
   "source": [
    "s.sst"
   ]
  },
  {
   "cell_type": "code",
   "execution_count": null,
   "id": "c2283f57-9b3a-49aa-96d1-5c5aa6ed78fc",
   "metadata": {},
   "outputs": [],
   "source": [
    "s.write_to_nc()"
   ]
  },
  {
   "cell_type": "code",
   "execution_count": null,
   "id": "4e1ad68a-f352-4b2f-9805-dbc58c048640",
   "metadata": {},
   "outputs": [],
   "source": []
  },
  {
   "cell_type": "code",
   "execution_count": null,
   "id": "0cd33116-78b3-4398-8273-d7ce5eae6ef0",
   "metadata": {},
   "outputs": [],
   "source": []
  },
  {
   "cell_type": "code",
   "execution_count": null,
   "id": "997e1247-8b95-4b48-bacd-ad59fa8ffa75",
   "metadata": {},
   "outputs": [],
   "source": []
  },
  {
   "cell_type": "code",
   "execution_count": null,
   "id": "82022b69-c47e-4035-b373-95628514b8d2",
   "metadata": {},
   "outputs": [],
   "source": []
  },
  {
   "cell_type": "code",
   "execution_count": null,
   "id": "bcc21664-7f3a-4b56-8359-4eea0409a895",
   "metadata": {},
   "outputs": [],
   "source": []
  },
  {
   "cell_type": "code",
   "execution_count": null,
   "id": "06cf9d66",
   "metadata": {},
   "outputs": [],
   "source": [
    "date_i = '2019-02-10T15:00'\n",
    "date_f = '2019-02-11T00:00'\n",
    "\n",
    "date_i = np.datetime64(date_i)\n",
    "date_f = np.datetime64(date_f)\n",
    "\n",
    "sst = load_data(date_i, date_f, merge=True)"
   ]
  }
 ],
 "metadata": {
  "kernelspec": {
   "display_name": "Python 3 (ipykernel)",
   "language": "python",
   "name": "python3"
  },
  "language_info": {
   "codemirror_mode": {
    "name": "ipython",
    "version": 3
   },
   "file_extension": ".py",
   "mimetype": "text/x-python",
   "name": "python",
   "nbconvert_exporter": "python",
   "pygments_lexer": "ipython3",
   "version": "3.11.4"
  }
 },
 "nbformat": 4,
 "nbformat_minor": 5
}
