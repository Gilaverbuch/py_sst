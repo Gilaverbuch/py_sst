{
 "cells": [
  {
   "cell_type": "code",
   "execution_count": null,
   "id": "1f283260",
   "metadata": {},
   "outputs": [],
   "source": [
    "import matplotlib.pyplot as plt\n",
    "plt.rcParams['font.size'] = '18'\n",
    "plt.rcParams['figure.dpi'] = 125\n",
    "plt.rcParams['figure.facecolor'] = 'white'\n",
    "\n",
    "import numpy as np\n",
    "import xarray as xr\n",
    "import pandas as pd\n",
    "from tqdm import tqdm\n",
    "import nctoolkit as nc\n",
    "import datetime\n",
    "\n",
    "\n",
    "import os, sys, webbrowser\n",
    "\n",
    "from dask import delayed, compute\n",
    "from dask.distributed import Client, LocalCluster\n",
    "\n",
    "cluster = LocalCluster(scheduler_port=8786, n_workers=10, threads_per_worker=1)\n",
    "client_dask = Client(cluster)\n",
    "webbrowser.open(client_dask.dashboard_link, new=2)\n",
    "\n",
    "module_path = os.path.abspath(os.path.join('/Users/gilaverbuch/dev/pysst/'))\n",
    "if module_path not in sys.path:\n",
    "    sys.path.appendp(module_path)\n",
    "from src.pysst.pysst import load_data\n"
   ]
  },
  {
   "cell_type": "code",
   "execution_count": null,
   "id": "06cf9d66",
   "metadata": {},
   "outputs": [],
   "source": [
    "date_i = '2018-06-10T15:00'\n",
    "date_f = '2018-06-11T15:00'\n",
    "\n",
    "date_i = np.datetime64(date_i)\n",
    "date_f = np.datetime64(date_f)\n",
    "\n"
   ]
  },
  {
   "cell_type": "code",
   "execution_count": null,
   "id": "89bc4a95",
   "metadata": {},
   "outputs": [],
   "source": [
    "ds1 = nc.open_thredds('http://tds.maracoos.org/thredds/dodsC/AVHRR/2018/1Agg')\n",
    "dsx1 = ds1.to_xarray()\n",
    "dsx1 = dsx1.sortby('time')"
   ]
  },
  {
   "cell_type": "code",
   "execution_count": null,
   "id": "e4dd774a",
   "metadata": {},
   "outputs": [],
   "source": [
    "day_avg_1 = dsx1.sel(time=slice(date_i, date_f))"
   ]
  },
  {
   "cell_type": "code",
   "execution_count": null,
   "id": "20104fc5",
   "metadata": {},
   "outputs": [],
   "source": [
    "day_avg_1"
   ]
  },
  {
   "cell_type": "code",
   "execution_count": null,
   "id": "4b459108",
   "metadata": {},
   "outputs": [],
   "source": [
    "ds2 = nc.open_thredds('http://basin.ceoe.udel.edu/thredds/dodsC/avhrr_unfiltered_sst.nc')\n",
    "dsx2 = ds2.to_xarray()\n",
    "dsx2 = dsx2.sortby('time')"
   ]
  },
  {
   "cell_type": "code",
   "execution_count": null,
   "id": "bf56564e",
   "metadata": {},
   "outputs": [],
   "source": [
    "day_avg_2 = dsx2.sel(time=slice(date_i, date_f))"
   ]
  },
  {
   "cell_type": "code",
   "execution_count": null,
   "id": "c95f6d72",
   "metadata": {},
   "outputs": [],
   "source": [
    "day_avg_2"
   ]
  },
  {
   "cell_type": "code",
   "execution_count": null,
   "id": "36fa15fe",
   "metadata": {},
   "outputs": [],
   "source": [
    "day_avg_2.isel(time=4).mcsst.plot(cmap='gnuplot2', clim=(5,35))"
   ]
  },
  {
   "cell_type": "code",
   "execution_count": null,
   "id": "35d37063",
   "metadata": {},
   "outputs": [],
   "source": []
  },
  {
   "cell_type": "code",
   "execution_count": null,
   "id": "f353bd61",
   "metadata": {},
   "outputs": [],
   "source": [
    "def mean_sst(xr1, xr2):\n",
    "    '''\n",
    "    Cal;culating the mean SST of two datasets\n",
    "    '''\n",
    "    xr_ = xr1.copy()\n",
    "    xr_.mcsst.values = np.nanmean(np.dstack((xr1.mcsst.values,xr2.mcsst.values)),2)\n",
    "    \n",
    "    return xr_"
   ]
  },
  {
   "cell_type": "code",
   "execution_count": null,
   "id": "680a0e5b",
   "metadata": {},
   "outputs": [],
   "source": [
    "dsx = day_avg_1.copy()\n",
    "days = np.arange(0,day_avg_1.time.size,1)\n",
    "days = np.arange(0,7,1)\n",
    "\n",
    "out = []\n",
    "for i in days:\n",
    "    \n",
    "    a = delayed(mean_sst)(day_avg_1.isel(time=i), day_avg_2.isel(time=i))\n",
    "    \n",
    "    out.append(a)\n",
    "    \n",
    "    \n",
    "    "
   ]
  },
  {
   "cell_type": "code",
   "execution_count": null,
   "id": "71a52675",
   "metadata": {},
   "outputs": [],
   "source": [
    "out = compute(*out)"
   ]
  },
  {
   "cell_type": "code",
   "execution_count": null,
   "id": "cb65f807",
   "metadata": {},
   "outputs": [],
   "source": [
    "out"
   ]
  },
  {
   "cell_type": "code",
   "execution_count": null,
   "id": "0f55d722",
   "metadata": {},
   "outputs": [],
   "source": [
    "out = xr.concat(out, 'time')"
   ]
  },
  {
   "cell_type": "code",
   "execution_count": null,
   "id": "5e24adbf",
   "metadata": {},
   "outputs": [],
   "source": [
    "out.isel(time=6).mcsst.plot(cmap='gnuplot2', clim=(5,35))"
   ]
  },
  {
   "cell_type": "code",
   "execution_count": null,
   "id": "87ebaa4f",
   "metadata": {},
   "outputs": [],
   "source": []
  },
  {
   "cell_type": "code",
   "execution_count": null,
   "id": "fdd08601",
   "metadata": {},
   "outputs": [],
   "source": []
  },
  {
   "cell_type": "code",
   "execution_count": null,
   "id": "2a8d5ff7",
   "metadata": {},
   "outputs": [],
   "source": [
    "    dsx.isel(time=i).mcsst.values = np.nanmean(np.dstack((day_avg_1.isel(time=i).mcsst.values,\n",
    "                                                          day_avg_2.isel(time=i).mcsst.values)),2)"
   ]
  },
  {
   "cell_type": "code",
   "execution_count": null,
   "id": "5d520a06",
   "metadata": {},
   "outputs": [],
   "source": [
    "dsx.isel(time=5).mcsst.plot(cmap='gnuplot2', clim=(5,35))"
   ]
  },
  {
   "cell_type": "code",
   "execution_count": null,
   "id": "553ea6b8",
   "metadata": {},
   "outputs": [],
   "source": []
  },
  {
   "cell_type": "code",
   "execution_count": null,
   "id": "33f29d55",
   "metadata": {},
   "outputs": [],
   "source": [
    "dsx3 = day_avg_1.copy()\n",
    "\n",
    "\n",
    "dsx3.mcsst.values = np.nanmean(np.dstack((day_avg_1.mcsst.values,day_avg_2.mcsst.values)),2)"
   ]
  },
  {
   "cell_type": "code",
   "execution_count": null,
   "id": "b854c109",
   "metadata": {},
   "outputs": [],
   "source": []
  },
  {
   "cell_type": "code",
   "execution_count": null,
   "id": "fd14f71b",
   "metadata": {
    "scrolled": false
   },
   "outputs": [],
   "source": [
    "dsx1 = dsx1.sel(time=date, method='nearest', drop=True)\n"
   ]
  },
  {
   "cell_type": "code",
   "execution_count": null,
   "id": "f4c95cd3",
   "metadata": {},
   "outputs": [],
   "source": [
    "# dsx1 = dsx1.sel(time=date, method='nearest')\n",
    "dsx2 = dsx2.sel(time=date, method='nearest')"
   ]
  },
  {
   "cell_type": "code",
   "execution_count": null,
   "id": "cdf22671",
   "metadata": {},
   "outputs": [],
   "source": [
    "dsx2"
   ]
  },
  {
   "cell_type": "code",
   "execution_count": null,
   "id": "38f6ad66",
   "metadata": {},
   "outputs": [],
   "source": [
    "dsx2"
   ]
  },
  {
   "cell_type": "code",
   "execution_count": null,
   "id": "7b149bde",
   "metadata": {
    "scrolled": false
   },
   "outputs": [],
   "source": [
    "dsx1.mcsst.plot(cmap='gnuplot2', clim=(5,35))"
   ]
  },
  {
   "cell_type": "code",
   "execution_count": null,
   "id": "a1014322",
   "metadata": {},
   "outputs": [],
   "source": [
    "dsx2.mcsst.plot(cmap='gnuplot2', clim=(5,35))"
   ]
  },
  {
   "cell_type": "code",
   "execution_count": null,
   "id": "a936e464",
   "metadata": {},
   "outputs": [],
   "source": [
    "dsx3 = dsx1.copy()"
   ]
  },
  {
   "cell_type": "code",
   "execution_count": null,
   "id": "3a535cce",
   "metadata": {},
   "outputs": [],
   "source": [
    "dsx3.mcsst.values = np.nanmean(np.dstack((dsx1.mcsst.values,dsx2.mcsst.values)),2)"
   ]
  },
  {
   "cell_type": "code",
   "execution_count": null,
   "id": "d9878ea7",
   "metadata": {},
   "outputs": [],
   "source": [
    "dsx3"
   ]
  },
  {
   "cell_type": "code",
   "execution_count": null,
   "id": "d7b10447",
   "metadata": {},
   "outputs": [],
   "source": [
    "dsx3.mcsst.plot(cmap='gnuplot2', clim=(5,35))"
   ]
  },
  {
   "cell_type": "code",
   "execution_count": null,
   "id": "d9e836af",
   "metadata": {},
   "outputs": [],
   "source": []
  },
  {
   "cell_type": "code",
   "execution_count": null,
   "id": "2e5b022b",
   "metadata": {},
   "outputs": [],
   "source": [
    "date = '2019-01-10T15:00'\n",
    "date = np.datetime64(date)"
   ]
  },
  {
   "cell_type": "code",
   "execution_count": null,
   "id": "008487ab",
   "metadata": {},
   "outputs": [],
   "source": [
    "t "
   ]
  },
  {
   "cell_type": "code",
   "execution_count": null,
   "id": "00e332d6",
   "metadata": {},
   "outputs": [],
   "source": [
    "date = '2019-07-01T10:00'\n",
    "t = np.datetime64(date)\n",
    "\n",
    "dsx1 = dsx1.sel(time=t, method='nearest')"
   ]
  },
  {
   "cell_type": "code",
   "execution_count": null,
   "id": "b3567689",
   "metadata": {},
   "outputs": [],
   "source": [
    "dsx1.mcsst.plot(cmap='gnuplot2', clim=(5,35))"
   ]
  },
  {
   "cell_type": "code",
   "execution_count": null,
   "id": "b0ead2ca",
   "metadata": {},
   "outputs": [],
   "source": [
    "day_ang = dsx1.sel(time=slice('2019-07-01', '2019-07-01'))"
   ]
  },
  {
   "cell_type": "code",
   "execution_count": null,
   "id": "30ff3b4e",
   "metadata": {},
   "outputs": [],
   "source": [
    "day_ang = dsx1.sel(time=slice('2019-07-01', '2019-07-01')).groupby('time.day').mean('time')"
   ]
  },
  {
   "cell_type": "code",
   "execution_count": null,
   "id": "1cfdecb1",
   "metadata": {},
   "outputs": [],
   "source": [
    "day_ang"
   ]
  },
  {
   "cell_type": "code",
   "execution_count": null,
   "id": "6f84773b",
   "metadata": {},
   "outputs": [],
   "source": [
    "day_ang.mcsst.plot(cmap='gnuplot2', clim=(5,35))"
   ]
  },
  {
   "cell_type": "code",
   "execution_count": null,
   "id": "8ddb08f2",
   "metadata": {},
   "outputs": [],
   "source": []
  },
  {
   "cell_type": "code",
   "execution_count": null,
   "id": "8ba5bc6b",
   "metadata": {},
   "outputs": [],
   "source": []
  },
  {
   "cell_type": "code",
   "execution_count": null,
   "id": "fafd53b8",
   "metadata": {},
   "outputs": [],
   "source": []
  },
  {
   "cell_type": "code",
   "execution_count": null,
   "id": "da9dc548",
   "metadata": {},
   "outputs": [],
   "source": [
    "abstime = np.abs(dsx.time-t)\n",
    "abstime = np.timedelta64(abstime.time.values[0], 'h')\n",
    "t_loc = np.where(abstime<=1)\n",
    "\n",
    "# # Now I can use that index location to get the values at the x/y diminsion\n",
    "# point_ds = ds.sel(x=xloc, y=yloc)"
   ]
  },
  {
   "cell_type": "code",
   "execution_count": null,
   "id": "10834883",
   "metadata": {},
   "outputs": [],
   "source": [
    "abstime.time.values[0]"
   ]
  },
  {
   "cell_type": "code",
   "execution_count": null,
   "id": "dda346ba",
   "metadata": {},
   "outputs": [],
   "source": []
  },
  {
   "cell_type": "code",
   "execution_count": null,
   "id": "935e9711",
   "metadata": {},
   "outputs": [],
   "source": [
    "a = xr_ds.isel(time=1500)"
   ]
  },
  {
   "cell_type": "code",
   "execution_count": null,
   "id": "0a6edf88",
   "metadata": {},
   "outputs": [],
   "source": [
    "a.mcsst.plot()"
   ]
  },
  {
   "cell_type": "code",
   "execution_count": null,
   "id": "a62732ef",
   "metadata": {},
   "outputs": [],
   "source": [
    "d = a.mcsst.values.copy()\n",
    "lat = a.lat.values.copy()\n",
    "lon = a.lon.values.copy()\n",
    "plt.figure(figsize=(15,10))\n",
    "plt.pcolormesh(lon, lat,d, cmap='gnuplot2')\n",
    "plt.clim(5,35)\n",
    "plt.colorbar(label='Temp [c]')\n",
    "plt.show()"
   ]
  },
  {
   "cell_type": "code",
   "execution_count": null,
   "id": "fb5bc5fc",
   "metadata": {},
   "outputs": [],
   "source": [
    "d = a.mcsst.values.copy()"
   ]
  },
  {
   "cell_type": "code",
   "execution_count": null,
   "id": "7a03d1eb",
   "metadata": {},
   "outputs": [],
   "source": [
    "a.lat"
   ]
  },
  {
   "cell_type": "code",
   "execution_count": null,
   "id": "708a7942",
   "metadata": {},
   "outputs": [],
   "source": []
  }
 ],
 "metadata": {
  "kernelspec": {
   "display_name": "Python 3 (ipykernel)",
   "language": "python",
   "name": "python3"
  },
  "language_info": {
   "codemirror_mode": {
    "name": "ipython",
    "version": 3
   },
   "file_extension": ".py",
   "mimetype": "text/x-python",
   "name": "python",
   "nbconvert_exporter": "python",
   "pygments_lexer": "ipython3",
   "version": "3.11.4"
  }
 },
 "nbformat": 4,
 "nbformat_minor": 5
}
